{
 "cells": [
  {
   "cell_type": "code",
   "execution_count": 69,
   "metadata": {},
   "outputs": [],
   "source": [
    "import matplotlib.pyplot as plt\n",
    "from sklearn import tree\n",
    "from sklearn.linear_model import LinearRegression\n",
    "import pandas as pd\n",
    "import numpy as np"
   ]
  },
  {
   "cell_type": "code",
   "execution_count": 70,
   "metadata": {},
   "outputs": [],
   "source": [
    "df = pd.read_csv(\"stats1.csv\")\n",
    "target_names = df[\"TD\"]"
   ]
  },
  {
   "cell_type": "code",
   "execution_count": 71,
   "metadata": {},
   "outputs": [
    {
     "data": {
      "text/html": [
       "<div>\n",
       "<style scoped>\n",
       "    .dataframe tbody tr th:only-of-type {\n",
       "        vertical-align: middle;\n",
       "    }\n",
       "\n",
       "    .dataframe tbody tr th {\n",
       "        vertical-align: top;\n",
       "    }\n",
       "\n",
       "    .dataframe thead th {\n",
       "        text-align: right;\n",
       "    }\n",
       "</style>\n",
       "<table border=\"1\" class=\"dataframe\">\n",
       "  <thead>\n",
       "    <tr style=\"text-align: right;\">\n",
       "      <th></th>\n",
       "      <th>Att</th>\n",
       "      <th>Cmp</th>\n",
       "      <th>Pct</th>\n",
       "      <th>Yds</th>\n",
       "      <th>YPA</th>\n",
       "      <th>Int</th>\n",
       "      <th>Int%</th>\n",
       "      <th>Lg</th>\n",
       "      <th>Sack</th>\n",
       "      <th>Loss</th>\n",
       "      <th>Rate</th>\n",
       "    </tr>\n",
       "  </thead>\n",
       "  <tbody>\n",
       "    <tr>\n",
       "      <th>0</th>\n",
       "      <td>489</td>\n",
       "      <td>364</td>\n",
       "      <td>74.4</td>\n",
       "      <td>3992</td>\n",
       "      <td>8.2</td>\n",
       "      <td>5</td>\n",
       "      <td>1.0</td>\n",
       "      <td>72</td>\n",
       "      <td>17</td>\n",
       "      <td>121</td>\n",
       "      <td>115.7</td>\n",
       "    </tr>\n",
       "    <tr>\n",
       "      <th>1</th>\n",
       "      <td>580</td>\n",
       "      <td>383</td>\n",
       "      <td>66.0</td>\n",
       "      <td>5097</td>\n",
       "      <td>8.8</td>\n",
       "      <td>12</td>\n",
       "      <td>2.1</td>\n",
       "      <td>89</td>\n",
       "      <td>26</td>\n",
       "      <td>171</td>\n",
       "      <td>113.8</td>\n",
       "    </tr>\n",
       "    <tr>\n",
       "      <th>2</th>\n",
       "      <td>427</td>\n",
       "      <td>280</td>\n",
       "      <td>65.6</td>\n",
       "      <td>3448</td>\n",
       "      <td>8.1</td>\n",
       "      <td>7</td>\n",
       "      <td>1.6</td>\n",
       "      <td>66</td>\n",
       "      <td>51</td>\n",
       "      <td>355</td>\n",
       "      <td>110.9</td>\n",
       "    </tr>\n",
       "    <tr>\n",
       "      <th>3</th>\n",
       "      <td>608</td>\n",
       "      <td>422</td>\n",
       "      <td>69.4</td>\n",
       "      <td>4924</td>\n",
       "      <td>8.1</td>\n",
       "      <td>7</td>\n",
       "      <td>1.2</td>\n",
       "      <td>75</td>\n",
       "      <td>42</td>\n",
       "      <td>296</td>\n",
       "      <td>108.1</td>\n",
       "    </tr>\n",
       "    <tr>\n",
       "      <th>4</th>\n",
       "      <td>508</td>\n",
       "      <td>347</td>\n",
       "      <td>68.3</td>\n",
       "      <td>4308</td>\n",
       "      <td>8.5</td>\n",
       "      <td>12</td>\n",
       "      <td>2.4</td>\n",
       "      <td>75</td>\n",
       "      <td>32</td>\n",
       "      <td>204</td>\n",
       "      <td>105.5</td>\n",
       "    </tr>\n",
       "  </tbody>\n",
       "</table>\n",
       "</div>"
      ],
      "text/plain": [
       "   Att  Cmp   Pct   Yds  YPA  Int  Int%  Lg  Sack  Loss   Rate\n",
       "0  489  364  74.4  3992  8.2    5   1.0  72    17   121  115.7\n",
       "1  580  383  66.0  5097  8.8   12   2.1  89    26   171  113.8\n",
       "2  427  280  65.6  3448  8.1    7   1.6  66    51   355  110.9\n",
       "3  608  422  69.4  4924  8.1    7   1.2  75    42   296  108.1\n",
       "4  508  347  68.3  4308  8.5   12   2.4  75    32   204  105.5"
      ]
     },
     "execution_count": 71,
     "metadata": {},
     "output_type": "execute_result"
    }
   ],
   "source": [
    "data = df.drop(\"TD\", axis=1)\n",
    "\n",
    "feature_names = data.columns\n",
    "data.head()"
   ]
  },
  {
   "cell_type": "code",
   "execution_count": 72,
   "metadata": {},
   "outputs": [],
   "source": [
    "data = df.values\n",
    "X = data[:, 0:11]\n",
    "y = data[:, 11]\n",
    "y=y.astype('int')\n",
    "X=X.astype('int')"
   ]
  },
  {
   "cell_type": "code",
   "execution_count": 73,
   "metadata": {},
   "outputs": [
    {
     "name": "stdout",
     "output_type": "stream",
     "text": [
      "R2 Score: 0.9652499631972966\n"
     ]
    }
   ],
   "source": [
    "model = LinearRegression()\n",
    "model.fit(X, y)\n",
    "score = model.score(X, y)\n",
    "print(f\"R2 Score: {score}\")"
   ]
  },
  {
   "cell_type": "code",
   "execution_count": 74,
   "metadata": {},
   "outputs": [
    {
     "data": {
      "text/plain": [
       "array([31.23293366])"
      ]
     },
     "execution_count": 74,
     "metadata": {},
     "output_type": "execute_result"
    }
   ],
   "source": [
    "model.predict(np.array([[489, 364, 74.4, 3992.0, 8.2, 5, 1.0, 72, 17, 121, 115.7]]))"
   ]
  },
  {
   "cell_type": "code",
   "execution_count": null,
   "metadata": {},
   "outputs": [],
   "source": []
  },
  {
   "cell_type": "code",
   "execution_count": null,
   "metadata": {},
   "outputs": [],
   "source": []
  },
  {
   "cell_type": "code",
   "execution_count": null,
   "metadata": {},
   "outputs": [],
   "source": []
  },
  {
   "cell_type": "code",
   "execution_count": null,
   "metadata": {},
   "outputs": [],
   "source": []
  },
  {
   "cell_type": "code",
   "execution_count": null,
   "metadata": {},
   "outputs": [],
   "source": []
  },
  {
   "cell_type": "code",
   "execution_count": null,
   "metadata": {},
   "outputs": [],
   "source": []
  },
  {
   "cell_type": "code",
   "execution_count": null,
   "metadata": {},
   "outputs": [],
   "source": []
  },
  {
   "cell_type": "code",
   "execution_count": null,
   "metadata": {},
   "outputs": [],
   "source": []
  }
 ],
 "metadata": {
  "kernelspec": {
   "display_name": "Python [conda env:PythonData]",
   "language": "python",
   "name": "conda-env-PythonData-py"
  },
  "language_info": {
   "codemirror_mode": {
    "name": "ipython",
    "version": 3
   },
   "file_extension": ".py",
   "mimetype": "text/x-python",
   "name": "python",
   "nbconvert_exporter": "python",
   "pygments_lexer": "ipython3",
   "version": "3.6.5"
  }
 },
 "nbformat": 4,
 "nbformat_minor": 2
}
